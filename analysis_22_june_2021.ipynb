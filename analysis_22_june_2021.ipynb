{
  "nbformat": 4,
  "nbformat_minor": 0,
  "metadata": {
    "colab": {
      "name": "analysis_22_june_2021.ipynb",
      "provenance": [],
      "collapsed_sections": [],
      "authorship_tag": "ABX9TyNPhYvD06HqSzOGG+keKLsZ",
      "include_colab_link": true
    },
    "kernelspec": {
      "name": "python3",
      "display_name": "Python 3"
    },
    "language_info": {
      "name": "python"
    }
  },
  "cells": [
    {
      "cell_type": "markdown",
      "metadata": {
        "id": "view-in-github",
        "colab_type": "text"
      },
      "source": [
        "<a href=\"https://colab.research.google.com/github/arinbasu/analysis_22_june_2021/blob/main/analysis_22_june_2021.ipynb\" target=\"_parent\"><img src=\"https://colab.research.google.com/assets/colab-badge.svg\" alt=\"Open In Colab\"/></a>"
      ]
    },
    {
      "cell_type": "code",
      "metadata": {
        "id": "7IxisvYCUvvg"
      },
      "source": [
        "import pandas as pd\n",
        "import numpy as np\n",
        "import matplotlib.pyplot as plt\n",
        "import seaborn as sns\n",
        "import statsmodels.api as sm\n",
        "import altair as alt\n",
        "import math\n",
        "import os\n",
        "import tabulate "
      ],
      "execution_count": 9,
      "outputs": []
    },
    {
      "cell_type": "code",
      "metadata": {
        "colab": {
          "base_uri": "https://localhost:8080/"
        },
        "id": "ek24afNAVtTJ",
        "outputId": "b9ab1324-b10f-4ba2-a8c2-48ec1d7a7fd2"
      },
      "source": [
        "gwd = os.getcwd()\n",
        "files = os.listdir(gwd)\n",
        "files"
      ],
      "execution_count": 8,
      "outputs": [
        {
          "output_type": "execute_result",
          "data": {
            "text/plain": [
              "['.config', 'sample_data']"
            ]
          },
          "metadata": {
            "tags": []
          },
          "execution_count": 8
        }
      ]
    },
    {
      "cell_type": "code",
      "metadata": {
        "colab": {
          "base_uri": "https://localhost:8080/",
          "height": 204
        },
        "id": "rH-BLdeDXElq",
        "outputId": "1c79949e-e221-4a7b-f5de-743ff333c3aa"
      },
      "source": [
        "pico_table = pd.DataFrame({\n",
        "    \"Factors\":[\"Participants\", \"Intervention/Exposure\", \"Comparator\", \"Outcome\"],\n",
        "    \"Definition\":[\"Adults of all ethnicity, both gender with vaccine preventable illness\",\n",
        "                  \"Mandatory vaccination policies\",\n",
        "                  \"Non-mandatory vaccination\",\n",
        "                  \"Vaccine hesitancy\"]\n",
        "\n",
        "}, \n",
        ")\n",
        "\n",
        "pico_table.set_index('Factors', inplace = True)\n",
        "pico_table"
      ],
      "execution_count": 18,
      "outputs": [
        {
          "output_type": "execute_result",
          "data": {
            "text/html": [
              "<div>\n",
              "<style scoped>\n",
              "    .dataframe tbody tr th:only-of-type {\n",
              "        vertical-align: middle;\n",
              "    }\n",
              "\n",
              "    .dataframe tbody tr th {\n",
              "        vertical-align: top;\n",
              "    }\n",
              "\n",
              "    .dataframe thead th {\n",
              "        text-align: right;\n",
              "    }\n",
              "</style>\n",
              "<table border=\"1\" class=\"dataframe\">\n",
              "  <thead>\n",
              "    <tr style=\"text-align: right;\">\n",
              "      <th></th>\n",
              "      <th>Definition</th>\n",
              "    </tr>\n",
              "    <tr>\n",
              "      <th>Factors</th>\n",
              "      <th></th>\n",
              "    </tr>\n",
              "  </thead>\n",
              "  <tbody>\n",
              "    <tr>\n",
              "      <th>Participants</th>\n",
              "      <td>Adults of all ethnicity, both gender with vacc...</td>\n",
              "    </tr>\n",
              "    <tr>\n",
              "      <th>Intervention/Exposure</th>\n",
              "      <td>Mandatory vaccination policies</td>\n",
              "    </tr>\n",
              "    <tr>\n",
              "      <th>Comparator</th>\n",
              "      <td>Non-mandatory vaccination</td>\n",
              "    </tr>\n",
              "    <tr>\n",
              "      <th>Outcome</th>\n",
              "      <td>Vaccine hesitancy</td>\n",
              "    </tr>\n",
              "  </tbody>\n",
              "</table>\n",
              "</div>"
            ],
            "text/plain": [
              "                                                              Definition\n",
              "Factors                                                                 \n",
              "Participants           Adults of all ethnicity, both gender with vacc...\n",
              "Intervention/Exposure                     Mandatory vaccination policies\n",
              "Comparator                                     Non-mandatory vaccination\n",
              "Outcome                                                Vaccine hesitancy"
            ]
          },
          "metadata": {
            "tags": []
          },
          "execution_count": 18
        }
      ]
    },
    {
      "cell_type": "code",
      "metadata": {
        "id": "Tn_ENWfcbV6L"
      },
      "source": [
        ""
      ],
      "execution_count": null,
      "outputs": []
    }
  ]
}